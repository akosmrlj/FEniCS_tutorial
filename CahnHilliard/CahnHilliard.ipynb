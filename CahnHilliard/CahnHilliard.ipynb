{
 "cells": [
  {
   "cell_type": "markdown",
   "metadata": {},
   "source": [
    "# Cahn-Hilliard equation\n",
    "\n",
    "This example is implemented in the Python file <a href=\"CahnHilliard.py\" target=\"_blank\">CahnHilliard.py</a> and it illustrates how to:\n",
    "\n",
    "- Implement periodic boundary conditions;\n",
    "- Implement initial conditions with small random perturbation.\n",
    "\n",
    "Note that this example is based on the FEniCS demo: <a href=\"https://fenicsproject.org/docs/dolfin/latest/python/demos/cahn-hilliard/demo_cahn-hilliard.py.html\" target=\"_blank\">click here</a>."
   ]
  },
  {
   "cell_type": "markdown",
   "metadata": {},
   "source": [
    "## Equation and problem definition"
   ]
  },
  {
   "cell_type": "markdown",
   "metadata": {},
   "source": [
    "The <a href=\"https://en.wikipedia.org/wiki/Cahn%E2%80%93Hilliard_equation\" target=\"_blank\">Cahn-Hilliard equation</a> describes the process of phase separation, by which the two components of a binary fluid spontaneously separate and form domains enriched in one of the two components. The driving force for the phase separation is the tendency of the system to lower the total free energy\n",
    "$$G[c] = \\int_\\Omega d{\\bf x}\\, \\left[f(c) + \\frac{1}{2}\\lambda (\\nabla c)^2\\right],$$\n",
    "where $c$ is an order parameter and the two phases correspond to $c=0$ and $c=1$. The first term in the above equation describes the bulk free energy and the second term the interfacial energy between the two phases. The bulk free energy density is commonly described with the double well potential and in this example we use the free energy density $f(c)=100 c^2 (1-c)^2$."
   ]
  },
  {
   "cell_type": "markdown",
   "metadata": {},
   "source": [
    "To describe the kinetics of the phase separation process it is convenient to first introduce the chemical potential $\\mu$, which can be obtained as the functional derivative of the free energy. More precisely, we calculate the variation of the free energy $G[c+\\delta c]=G[c]+\\delta G$, where the variation is\n",
    "$$\\delta G= \\int_\\Omega d{\\bf x} \\ \\left[f'(c) \\delta c + \\lambda \\nabla c \\cdot \\nabla \\delta c\\right]=\\int_\\Omega d{\\bf x}\\  \\left[f'(c) - \\lambda (\\nabla^2 c) \\right] \\delta c \\equiv \\int_\\Omega  d{\\bf x}\\ \\mu \\delta c,$$\n",
    "where we used integration by parts and defined the chemical potential\n",
    "$$\\mu = f'(c) - \\lambda \\nabla^2 c.$$\n",
    "The gradients of the chemical potential provide the driving force for the redistribution of material, and this kinetics is described with\n",
    "$$\\frac{\\partial c}{\\partial t} = \\nabla \\cdot (M \\nabla \\mu),$$\n",
    "where $M$ is the mobility."
   ]
  },
  {
   "cell_type": "markdown",
   "metadata": {},
   "source": [
    "### Discretizaton of time \n",
    "\n",
    "In order to solve the two coupled PDEs for the concentration $c({\\bf x},t)$ and chemical potential $\\mu({\\bf x},t)$, we first discuss the time discretization. Fields are evaluated at discrete timesteps $t_n = n \\Delta t$, where $n=0,1,2,\\ldots$. We use the notation $c_{n}({\\bf x})\\equiv c({\\bf x},t_n)$ and $\\mu_{n}({\\bf x})\\equiv \\mu({\\bf x},t_n)$. The two coupled PDEs can then be written as \n",
    "    $$\\begin{aligned}\n",
    "    \\frac{c_{n+1}-c_{n}}{\\Delta t} &= \\nabla \\cdot (M \\nabla \\mu_{n+\\theta}),\\\\\n",
    "    \\mu_{n+1} &= f'(c_{n+1}) - \\lambda \\nabla^2 c_{n+1},\\\\\n",
    "    \\end{aligned}$$    \n",
    "where $\\mu_{n+\\theta} = (1-\\theta) \\mu_{n} + \\theta \\mu_{n+1}$. Different choices for the parameter $\\theta$ correspond to the forward Euler method ($\\theta=0$), the backward Euler method ($\\theta=1$), and the Crank–Nicolson method ($\\theta=1/2$). Check the <a href=\"https://en.wikipedia.org/wiki/Crank%E2%80%93Nicolson_method\" target=\"_blank\">Wikipedia article</a> for more information about the differences between these three methods. In this example we use the Crank–Nicolson method ($\\theta=1/2$). The general procedure is to start with the initial concentrations $c_0({\\bf x})$, from which we can calculate the chemical potentials $\\mu_0({\\bf x})$ at time 0. Then we iteratively calculate the fields ($c_{n+1}$, $\\mu_{n+1}$) at time $t_{n+1}$ from the values of fields ($c_{n+1}$, $\\mu_{n+1}$) at time $t_n$."
   ]
  },
  {
   "cell_type": "markdown",
   "metadata": {},
   "source": [
    "### Weak formulation of the problem\n",
    "\n",
    "The final step is to write the weak formulation of the coupled PDEs\n",
    "    $$\\begin{aligned}\\int_\\Omega d{\\bf x} \\\n",
    "    \\left[\\frac{c_{n+1}-c_{n}}{\\Delta t} - \\nabla \\cdot (M \\nabla \\mu_{n+\\theta})\\right] q & = 0,\\\\\n",
    "    \\int_\\Omega d{\\bf x} \\ \\left[\\mu_{n+1} - f'(c_{n+1}) + \\lambda \\nabla^2 c_{n+1}\\right] v & = 0,\\\\\n",
    "    \\end{aligned}$$\n",
    "where we introduced two *test functions* $q$ and $v$. After the integration by parts the two coupled PDEs can be rewritten as\n",
    "    $$\\begin{aligned}\\int_\\Omega d{\\bf x} \\\n",
    "    \\left[\\frac{c_{n+1}-c_{n}}{\\Delta t} q + M \\nabla \\mu_{n+\\theta} \\cdot \\nabla q\\right]  & = 0,\\\\\n",
    "    \\int_\\Omega d{\\bf x} \\ \\left[\\mu_{n+1} v  - f'(c_{n+1})v  - \\lambda \\nabla c_{n+1} \\cdot \\nabla v\\right] & = 0.\\\\\n",
    "    \\end{aligned}$$\n",
    "In these example, we solve the Cahn-Hilliard equation on a unit square domain with periodic boundary conditions. The intial concentration values are chosen randomly on the interval $(0.62,0.64)$. Other values are chosen as in the <a href=\"https://fenicsproject.org/docs/dolfin/latest/python/demos/cahn-hilliard/demo_cahn-hilliard.py.html\" target=\"_blank\">FEniCS demo</a>, i.e. $\\lambda = 10^{-2}$ and $\\Delta t = 5 \\times 10^{-6}$."
   ]
  },
  {
   "cell_type": "markdown",
   "metadata": {},
   "source": [
    "## Implementation"
   ]
  },
  {
   "cell_type": "markdown",
   "metadata": {},
   "source": [
    "As usual, in order to use solve this problem we need to import all necessary modules."
   ]
  },
  {
   "cell_type": "code",
   "execution_count": 1,
   "metadata": {},
   "outputs": [],
   "source": [
    "from __future__ import print_function\n",
    "import random\n",
    "from fenics import *\n",
    "from dolfin import *\n",
    "from mshr import *"
   ]
  },
  {
   "cell_type": "markdown",
   "metadata": {},
   "source": [
    "To implement periodic boundary conditions, we first note that the boundary of the unit square domain can be divided into two subdomains: the unique points on $\\Gamma_{inside}$ and the points on $\\Gamma_{mapped}$ that can be mapped to the $\\Gamma_{inside}$ with periodic boundary conditions. Here we choose the bottom and left boundaries to be in the set $\\Gamma_{inside}$ except for the corner points $(1,0)$ and $(0,1)$, which can be mapped to the point (0,0).\n",
    "<div align=\"center\">    \n",
    "    <img src=\"figs/CahnHilliard_domain.png\" style=\"width: 250px;\"/>\n",
    "</div>"
   ]
  },
  {
   "cell_type": "markdown",
   "metadata": {},
   "source": [
    "To impose periodic boundary conditions in FEniCS, we implement the `SubDomain` class. In this class we have to provide two functions called `inside` and `map`. The `inside` function should return `True` for the unique boundary points on $\\Gamma_{inside}$. The `map` function tells how the boundary points on $\\Gamma_{mapped}$ are mapped to the points on $\\Gamma_{inside}$. "
   ]
  },
  {
   "cell_type": "code",
   "execution_count": 2,
   "metadata": {},
   "outputs": [],
   "source": [
    "# Sub domain for Periodic boundary condition\n",
    "class PeriodicBoundary(SubDomain):\n",
    "\n",
    "    def inside(self, x, on_boundary):\n",
    "        # return True if on left or bottom boundary AND NOT\n",
    "        # on one of the two corners (0, 1) and (1, 0)\n",
    "        return bool((near(x[0], 0) or near(x[1], 0)) and\n",
    "                (not ((near(x[0], 0) and near(x[1], 1)) or\n",
    "                        (near(x[0], 1) and near(x[1], 0)))) and on_boundary)\n",
    "\n",
    "    def map(self, x, y):\n",
    "        if near(x[0], 1) and near(x[1], 1):\n",
    "            y[0] = x[0] - 1.\n",
    "            y[1] = x[1] - 1.\n",
    "        elif near(x[0], 1):\n",
    "            y[0] = x[0] - 1.\n",
    "            y[1] = x[1]\n",
    "        else:   # near(x[1], 1)\n",
    "            y[0] = x[0]\n",
    "            y[1] = x[1] - 1."
   ]
  },
  {
   "cell_type": "markdown",
   "metadata": {},
   "source": [
    "Next, we create a mesh for a unit square domain and define the function space, where periodic boundary conditions are imposed with the `constrained_domain` argument. Here we use mixed elements, where the first ellement corresponds to the concentration field $c$ and the second element to the chemical potential field $\\mu$. "
   ]
  },
  {
   "cell_type": "code",
   "execution_count": 3,
   "metadata": {},
   "outputs": [],
   "source": [
    "# Create mesh and define function space with periodic boundary conditions\n",
    "mesh = UnitSquareMesh.create(96, 96, CellType.Type.quadrilateral)\n",
    "P = FiniteElement('Lagrange', mesh.ufl_cell(), 1)\n",
    "MFS = FunctionSpace(mesh, MixedElement([P,P]),constrained_domain=PeriodicBoundary())"
   ]
  },
  {
   "cell_type": "markdown",
   "metadata": {},
   "source": [
    "We define functions ${\\bf u}_{new}$ and ${\\bf u}_{old}$, where we store fields $(c_{n+1},\\mu_{n+1})$ and $(c_{n},\\mu_{n})$, respectively. We also split the function into the concentration and chemical potential fields. In a similar way we introduce the test function, which is split into two test functions $q$ and $v$."
   ]
  },
  {
   "cell_type": "code",
   "execution_count": 4,
   "metadata": {},
   "outputs": [],
   "source": [
    "# Define functions\n",
    "u_new = Function(MFS)  # solution for the next step\n",
    "u_old  = Function(MFS)  # solution from previous step\n",
    "u_new.rename(\"fields\",\"\")\n",
    "# Split mixed functions\n",
    "c_new, mu_new  = split(u_new)\n",
    "c_old, mu_old = split(u_old)\n",
    "\n",
    "# Define test functions\n",
    "tf = TestFunction(MFS)\n",
    "q, v  = split(tf)"
   ]
  },
  {
   "cell_type": "markdown",
   "metadata": {},
   "source": [
    "To prescribe intitial conditions with the concentration values that are chosen randomly from the interval $(0.62,0.64)$ we implement the `UserExpression` class. In the constructor `(__init__)`, the random number generator is seeded. If the program is run in parallel, the random number generator is seeded using the rank (process number) to ensure a different sequence of numbers on each process. The function `eval` returns the values for a function at a given point $\\bf x$. The first component of the function is a randomized value of the concentration $c$ and the second value is the intial value of the chemical potential.\n",
    "The function `value_shape` declares that the `UseExpression` is a vector with a dimension two. "
   ]
  },
  {
   "cell_type": "code",
   "execution_count": 5,
   "metadata": {},
   "outputs": [],
   "source": [
    "# Class representing the intial conditions\n",
    "class InitialConditions(UserExpression):\n",
    "    def __init__(self, **kwargs):\n",
    "        random.seed(2 + MPI.rank(MPI.comm_world))\n",
    "        super().__init__(**kwargs)\n",
    "    def eval(self, values, x):\n",
    "        values[0] = 0.63 + 0.02*(0.5 - random.random()) # concentration\n",
    "        values[1] = 0.0 # chemical potential\n",
    "    def value_shape(self):\n",
    "        return (2,)\n",
    "    \n",
    "# Create intial conditions and interpolate\n",
    "u_init = InitialConditions(degree=1)\n",
    "u_new.interpolate(u_init)\n",
    "u_old.interpolate(u_init)    "
   ]
  },
  {
   "cell_type": "markdown",
   "metadata": {},
   "source": [
    "To calculate the contribution $f'(c)$ for the chemical potential we use automated differentiation. The first line declares that $c$ is a variable that some function can be differentiated with respect to. The next line is the function $f=100 c^2 (1-c)^2$ defined in the problem statement, and the third line performs the differentiation of $f$ with respect to the variable $c$."
   ]
  },
  {
   "cell_type": "code",
   "execution_count": 6,
   "metadata": {},
   "outputs": [],
   "source": [
    "# Compute the chemical potential df/dc\n",
    "c_new = variable(c_new)\n",
    "f    = 100*c_new**2*(1-c_new)**2\n",
    "dfdc = diff(f, c_new)"
   ]
  },
  {
   "cell_type": "markdown",
   "metadata": {},
   "source": [
    "Next we implement the weak form of coupled PDEs\n",
    "    $$\\begin{aligned}\\int_\\Omega d{\\bf x} \\\n",
    "    \\left[\\frac{c_{n+1}-c_{n}}{\\Delta t} q + M \\nabla \\mu_{n+\\theta} \\cdot \\nabla q\\right]  & = 0,\\\\\n",
    "    \\int_\\Omega d{\\bf x} \\ \\left[\\mu_{n+1} v  - f'(c_{n+1})v  - \\lambda \\nabla c_{n+1} \\cdot \\nabla v\\right] & = 0.\\\\\n",
    "    \\end{aligned}$$"
   ]
  },
  {
   "cell_type": "code",
   "execution_count": 7,
   "metadata": {},
   "outputs": [],
   "source": [
    "lmbda  = 1.0e-02  # surface parameter\n",
    "dt     = 5.0e-06  # time step\n",
    "theta  = 0.5      # time stepping family, e.g. theta=1 -> backward Euler, theta=0.5 -> Crank-Nicolson\n",
    "\n",
    "# mu_(n+theta)\n",
    "mu_mid = (1.0-theta)*mu_old + theta*mu_new\n",
    "\n",
    "# Weak statement of the equations\n",
    "Res_0 = (c_new - c_old)/dt*q*dx + dot(grad(mu_mid), grad(q))*dx\n",
    "Res_1 = mu_new*v*dx - dfdc*v*dx - lmbda*dot(grad(c_new), grad(v))*dx\n",
    "Res = Res_0 + Res_1"
   ]
  },
  {
   "cell_type": "markdown",
   "metadata": {},
   "source": [
    "Prepare files, where we will store concentration and chemical potential fields for the visualization in <a href=\"https://www.paraview.org/\" target=\"_blank\">ParaView</a>."
   ]
  },
  {
   "cell_type": "code",
   "execution_count": 8,
   "metadata": {},
   "outputs": [],
   "source": [
    "# Output files for concentration and chemical potential\n",
    "fileC = File(\"data/concentration.pvd\", \"compressed\")\n",
    "fileM = File(\"data/chem_potential.pvd\", \"compressed\")"
   ]
  },
  {
   "cell_type": "markdown",
   "metadata": {},
   "source": [
    "Iteratively solve the coupled PDEs for 50 time steps. At each step we first copy the values of fields from the ${\\bf u}_{new}$ function to the ${\\bf u}_{old}$ function. Then we solve the coupled PDEs and store the new values of fields in the function ${\\bf u}_{new}$. Finally, we save the values of fields for visualization in <a href=\"https://www.paraview.org/\" target=\"_blank\">ParaView</a> "
   ]
  },
  {
   "cell_type": "code",
   "execution_count": 9,
   "metadata": {},
   "outputs": [
    {
     "name": "stdout",
     "output_type": "stream",
     "text": [
      "5e-06\n",
      "1e-05\n",
      "1.5000000000000002e-05\n",
      "2e-05\n",
      "2.5e-05\n",
      "3e-05\n",
      "3.5000000000000004e-05\n",
      "4e-05\n",
      "4.5e-05\n",
      "5e-05\n",
      "5.5e-05\n",
      "6e-05\n",
      "6.500000000000001e-05\n",
      "7.000000000000001e-05\n",
      "7.500000000000001e-05\n",
      "8e-05\n",
      "8.5e-05\n",
      "9e-05\n",
      "9.5e-05\n",
      "0.0001\n",
      "0.000105\n",
      "0.00011\n",
      "0.000115\n",
      "0.00012\n",
      "0.000125\n",
      "0.00013000000000000002\n",
      "0.00013500000000000003\n",
      "0.00014000000000000004\n",
      "0.00014500000000000006\n",
      "0.00015000000000000007\n",
      "0.00015500000000000008\n",
      "0.0001600000000000001\n",
      "0.0001650000000000001\n",
      "0.00017000000000000012\n",
      "0.00017500000000000013\n",
      "0.00018000000000000015\n",
      "0.00018500000000000016\n",
      "0.00019000000000000017\n",
      "0.00019500000000000019\n",
      "0.0002000000000000002\n",
      "0.0002050000000000002\n",
      "0.00021000000000000023\n",
      "0.00021500000000000024\n",
      "0.00022000000000000025\n",
      "0.00022500000000000026\n",
      "0.00023000000000000028\n",
      "0.0002350000000000003\n",
      "0.0002400000000000003\n",
      "0.0002450000000000003\n",
      "0.00025000000000000033\n"
     ]
    }
   ],
   "source": [
    "# Step in time\n",
    "t = 0.0\n",
    "T = 50*dt\n",
    "while (t < T):\n",
    "    t += dt\n",
    "    print(t)\n",
    "    u_old.vector()[:] = u_new.vector()\n",
    "    solve(Res == 0, u_new)\n",
    "    fileC << (u_new.split()[0], t)\n",
    "    fileM << (u_new.split()[1], t)"
   ]
  },
  {
   "cell_type": "markdown",
   "metadata": {},
   "source": [
    "## Complete code"
   ]
  },
  {
   "cell_type": "code",
   "execution_count": 10,
   "metadata": {},
   "outputs": [
    {
     "name": "stdout",
     "output_type": "stream",
     "text": [
      "5e-06\n",
      "1e-05\n",
      "1.5000000000000002e-05\n",
      "2e-05\n",
      "2.5e-05\n",
      "3e-05\n",
      "3.5000000000000004e-05\n",
      "4e-05\n",
      "4.5e-05\n",
      "5e-05\n",
      "5.5e-05\n",
      "6e-05\n",
      "6.500000000000001e-05\n",
      "7.000000000000001e-05\n",
      "7.500000000000001e-05\n",
      "8e-05\n",
      "8.5e-05\n",
      "9e-05\n",
      "9.5e-05\n",
      "0.0001\n",
      "0.000105\n",
      "0.00011\n",
      "0.000115\n",
      "0.00012\n",
      "0.000125\n",
      "0.00013000000000000002\n",
      "0.00013500000000000003\n",
      "0.00014000000000000004\n",
      "0.00014500000000000006\n",
      "0.00015000000000000007\n",
      "0.00015500000000000008\n",
      "0.0001600000000000001\n",
      "0.0001650000000000001\n",
      "0.00017000000000000012\n",
      "0.00017500000000000013\n",
      "0.00018000000000000015\n",
      "0.00018500000000000016\n",
      "0.00019000000000000017\n",
      "0.00019500000000000019\n",
      "0.0002000000000000002\n",
      "0.0002050000000000002\n",
      "0.00021000000000000023\n",
      "0.00021500000000000024\n",
      "0.00022000000000000025\n",
      "0.00022500000000000026\n",
      "0.00023000000000000028\n",
      "0.0002350000000000003\n",
      "0.0002400000000000003\n",
      "0.0002450000000000003\n",
      "0.00025000000000000033\n"
     ]
    }
   ],
   "source": [
    "from __future__ import print_function\n",
    "import random\n",
    "from fenics import *\n",
    "from dolfin import *\n",
    "from mshr import *\n",
    "\n",
    "    \n",
    "# Sub domain for Periodic boundary condition\n",
    "class PeriodicBoundary(SubDomain):\n",
    "\n",
    "    def inside(self, x, on_boundary):\n",
    "        # return True if on left or bottom boundary AND NOT\n",
    "        # on one of the two corners (0, 1) and (1, 0)\n",
    "        return bool((near(x[0], 0) or near(x[1], 0)) and\n",
    "                (not ((near(x[0], 0) and near(x[1], 1)) or\n",
    "                        (near(x[0], 1) and near(x[1], 0)))) and on_boundary)\n",
    "\n",
    "    def map(self, x, y):\n",
    "        if near(x[0], 1) and near(x[1], 1):\n",
    "            y[0] = x[0] - 1.\n",
    "            y[1] = x[1] - 1.\n",
    "        elif near(x[0], 1):\n",
    "            y[0] = x[0] - 1.\n",
    "            y[1] = x[1]\n",
    "        else:   # near(x[1], 1)\n",
    "            y[0] = x[0]\n",
    "            y[1] = x[1] - 1.\n",
    "            \n",
    "\n",
    "\n",
    "# Create mesh and define function space with periodic boundary conditions\n",
    "mesh = UnitSquareMesh.create(96, 96, CellType.Type.quadrilateral)\n",
    "P = FiniteElement('Lagrange', mesh.ufl_cell(), 1)\n",
    "MFS = FunctionSpace(mesh, MixedElement([P,P]),constrained_domain=PeriodicBoundary())\n",
    "\n",
    "# Define functions\n",
    "u_new = Function(MFS)  # solution for the next step\n",
    "u_old  = Function(MFS)  # solution from previous step\n",
    "u_new.rename(\"fields\",\"\")\n",
    "# Split mixed functions\n",
    "c_new, mu_new  = split(u_new)\n",
    "c_old, mu_old = split(u_old)\n",
    "\n",
    "# Define test functions\n",
    "tf = TestFunction(MFS)\n",
    "q, v  = split(tf)\n",
    "\n",
    "# Define test functions\n",
    "tf = TestFunction(MFS)\n",
    "q, v  = split(tf)\n",
    "\n",
    "\n",
    "# Class representing the intial conditions\n",
    "class InitialConditions(UserExpression):\n",
    "    def __init__(self, **kwargs):\n",
    "        random.seed(2 + MPI.rank(MPI.comm_world))\n",
    "        super().__init__(**kwargs)\n",
    "    def eval(self, values, x):\n",
    "        values[0] = 0.63 + 0.02*(0.5 - random.random()) # concentration\n",
    "        values[1] = 0.0 # chemical potential\n",
    "    def value_shape(self):\n",
    "        return (2,)\n",
    "    \n",
    "\n",
    "# Create intial conditions and interpolate\n",
    "u_init = InitialConditions(degree=1)\n",
    "u_new.interpolate(u_init)\n",
    "u_old.interpolate(u_init)\n",
    "\n",
    "\n",
    "\n",
    "# Compute the chemical potential df/dc\n",
    "c_new = variable(c_new)\n",
    "f    = 100*c_new**2*(1-c_new)**2\n",
    "dfdc = diff(f, c_new)\n",
    "\n",
    "\n",
    "lmbda  = 1.0e-02  # surface parameter\n",
    "dt     = 5.0e-06  # time step\n",
    "theta  = 0.5      # time stepping family, e.g. theta=1 -> backward Euler, theta=0.5 -> Crank-Nicolson\n",
    "\n",
    "# mu_(n+theta)\n",
    "mu_mid = (1.0-theta)*mu_old + theta*mu_new\n",
    "\n",
    "# Weak statement of the equations\n",
    "Res_0 = (c_new - c_old)/dt*q*dx + dot(grad(mu_mid), grad(q))*dx\n",
    "Res_1 = mu_new*v*dx - dfdc*v*dx - lmbda*dot(grad(c_new), grad(v))*dx\n",
    "Res = Res_0 + Res_1\n",
    "\n",
    "\n",
    "# Output files for concentration and chemical potential\n",
    "fileC = File(\"data/concentration.pvd\", \"compressed\")\n",
    "fileM = File(\"data/chem_potential.pvd\", \"compressed\")\n",
    "\n",
    "\n",
    "# Step in time\n",
    "t = 0.0\n",
    "T = 50*dt\n",
    "while (t < T):\n",
    "    t += dt\n",
    "    print(t)\n",
    "    u_old.vector()[:] = u_new.vector()\n",
    "    solve(Res == 0, u_new)\n",
    "    fileC << (u_new.split()[0], t)\n",
    "    fileM << (u_new.split()[1], t)\n"
   ]
  },
  {
   "cell_type": "code",
   "execution_count": null,
   "metadata": {},
   "outputs": [],
   "source": []
  }
 ],
 "metadata": {
  "kernelspec": {
   "display_name": "Python 3",
   "language": "python",
   "name": "python3"
  },
  "language_info": {
   "codemirror_mode": {
    "name": "ipython",
    "version": 3
   },
   "file_extension": ".py",
   "mimetype": "text/x-python",
   "name": "python",
   "nbconvert_exporter": "python",
   "pygments_lexer": "ipython3",
   "version": "3.8.2"
  }
 },
 "nbformat": 4,
 "nbformat_minor": 4
}
