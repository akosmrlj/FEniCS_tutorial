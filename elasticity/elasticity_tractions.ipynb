{
 "cells": [
  {
   "cell_type": "markdown",
   "metadata": {},
   "source": [
    "# Linear deformation of elastic material with two circular inclusions with prescribed tractions\n",
    "\n",
    "This example is implemented in a Python file <a href=\"elasticity_tractions.py\" target=\"_blank\">elasticity_tractions.</a> and it illustrates how to:\n",
    "\n",
    "- Use subdamins\n",
    "- Use Lagrange multipliers\n",
    "- Use `UserExpression` class\n",
    "- Extract normal vector to the physical boundary"
   ]
  },
  {
   "cell_type": "markdown",
   "metadata": {},
   "source": [
    "## Equation and problem definition"
   ]
  },
  {
   "cell_type": "markdown",
   "metadata": {},
   "source": [
    "We consider linear deformation of a 2D elastic material ($\\Omega_1$) with two circular inclusions ($\\Omega_2$, $\\Omega_3$) by prescribing tractions on the left ($\\Gamma_1$) and right ($\\Gamma_2$) boundaries, while the other other boundaries are traction-free ($\\Gamma_3$, $\\Gamma_4$).\n",
    "<div align=\"center\">    \n",
    "    <img src=\"figs/elasticity_tractions_domain.png\" style=\"width: 520px;\"/>\n",
    "</div>"
   ]
  },
  {
   "cell_type": "markdown",
   "metadata": {},
   "source": [
    "This problem can be solved via minimization of the free energy\n",
    "$$F[u_i]=E_{el}[u_i] - W[u_i]=\\int_\\Omega {\\bf dx} \\ \\frac{1}{2} \\sigma_{ij} \\epsilon_{ij} - \\oint_\\Gamma ds\\, u_i t_i,$$\n",
    "with respect to displacements $u_i$. The first term describes the stored elastic energy and the second term describes the work of external tractions ($t_i = \\sigma_{ij}^0 n_j$ with $n_j$ the unit normal vector to the boundary). The constitutive equations for all materials are \n",
    "$$\\sigma_{ij} = 2 \\mu \\epsilon_{ij} + \\lambda \\epsilon_{kk} \\delta_{ij},$$\n",
    "$$\\epsilon_{ij} = \\frac{1}{2} \\left(\\partial_i u_j + \\partial_j u_i\\right),$$\n",
    "\n",
    "where $\\lambda$ and $\\mu$ are 2D Lame constants that can be expressed in terms of the 2D Young's modulus $E$ and the Poisson's ratio $\\nu$ as $\\mu=E/[2(1+\\nu)]$ and $\\lambda = E \\nu/(1-\\nu^2)$. In this example we use values: $E_1=1$, $E_1=1$, $E_2=10$, $E_3=0.1$, $\\nu_1=0.3$, $\\nu_2=0.2$, and $\\nu_1=0.1$. "
   ]
  },
  {
   "cell_type": "markdown",
   "metadata": {},
   "source": [
    "Note that the minimization of the total free energy automatically satisfies the boundary conditions at different materials, which are the continuity of displacements and tractions. In order to prevent rigid body motions (2 translations, 1 rotation), which do not cost any energy, we use Lagrange multipliers ${\\bf c}_{trans}$ and $c_{rot}$ and minimize the total free energy \n",
    "$$F[u_i]=\\int_\\Omega {\\bf dx} \\, \\frac{1}{2} \\sigma_{ij} \\epsilon_{ij} - \\oint_\\Gamma ds\\, u_i t_i +\\int_\\Omega {\\bf dx}\\,  c_{trans,i} u_i + \\int_\\Omega {\\bf dx}\\  c_{rot} (x u_y -y u_x)$$"
   ]
  },
  {
   "cell_type": "markdown",
   "metadata": {},
   "source": [
    "## Implementation"
   ]
  },
  {
   "cell_type": "markdown",
   "metadata": {},
   "source": [
    "Import relevant libraries"
   ]
  },
  {
   "cell_type": "code",
   "execution_count": 1,
   "metadata": {},
   "outputs": [],
   "source": [
    "from __future__ import print_function\n",
    "from fenics import *\n",
    "from dolfin import *\n",
    "from mshr import *\n",
    "import matplotlib.pyplot as plt"
   ]
  },
  {
   "cell_type": "markdown",
   "metadata": {},
   "source": [
    "Create a rectangular box with two circular subdomains. For each subdomain we can prescribe the identifier marker numbers via the `set_subdomain` function. Here we first specified the marker value 1 for the whole rectangular domain and then we specified marker values 2 and 3 for the two circular domains. Note that if subdomains overlap, then the last specified marker is used. Thus the marker value 1 only describes the rectangular region without the two circular disks. Note also that the marker values of 0 cannot be used, because they are reserved to specify the whole domain. To access the values of markers for each cell in the mesh, we use the `MeshFunction`, where `d` is the dimensionality of the cell. "
   ]
  },
  {
   "cell_type": "code",
   "execution_count": 2,
   "metadata": {},
   "outputs": [
    {
     "name": "stdout",
     "output_type": "stream",
     "text": [
      "d =  2\n"
     ]
    }
   ],
   "source": [
    "# Create rectangular mesh with two circular inclusions\n",
    "N=100\n",
    "L=1\n",
    "R_2=0.05\n",
    "R_3=0.08\n",
    "domain = Rectangle(Point(-L/2,-L/2),Point(L/2,L/2))\n",
    "# mark subdomains with markers 1, 2, 3\n",
    "domain.set_subdomain(1, Rectangle(Point(-L/2,-L/2),Point(L/2,L/2)))\n",
    "domain.set_subdomain(2, Circle(Point(0.,0.43), R_2))\n",
    "domain.set_subdomain(3, Circle(Point(-0.15,0.35), R_3))\n",
    "mesh = generate_mesh(domain, N)\n",
    "d = mesh.topology().dim() # dimensionality of the problem\n",
    "print(\"d = \",d)\n",
    "markers = MeshFunction(\"size_t\", mesh, d , mesh.domains())"
   ]
  },
  {
   "cell_type": "markdown",
   "metadata": {},
   "source": [
    "To define boundary subdomains we use the `SubDomain` class. Note that we use the `near` function to test whether the mesh points belong to the boundary. This is because we cannot check whether the two real numbers are equal as `x[0]==-L/2`, because of the rounding errors. To mark the values of markers for facets on each boundary subdomain, we again use the `MeshFunction` class, which now has dimensionality `d-1`. Note again that the marker values of 0 cannot be used, because they are reserved to specify the whole boundary domain."
   ]
  },
  {
   "cell_type": "code",
   "execution_count": 3,
   "metadata": {},
   "outputs": [],
   "source": [
    "# define boundary subdomains\n",
    "class Left(SubDomain):\n",
    "    def inside(self, x, on_boundary):\n",
    "        return near(x[0], -L/2)\n",
    "\n",
    "class Right(SubDomain):\n",
    "    def inside(self, x, on_boundary):\n",
    "        return near(x[0], +L/2)\n",
    "\n",
    "class Top(SubDomain):\n",
    "    def inside(self, x, on_boundary):\n",
    "        return near(x[1], L/2)\n",
    "\n",
    "class Bottom(SubDomain):\n",
    "    def inside(self, x, on_boundary):\n",
    "        return near(x[1], -L/2)\n",
    "\n",
    "left = Left()\n",
    "right = Right()\n",
    "top = Top()\n",
    "bottom = Bottom()\n",
    "\n",
    "# mark boundary subdomains with markers 1, 2, 3, 4\n",
    "boundaries = MeshFunction(\"size_t\", mesh, d-1, 0)\n",
    "boundaries.set_all(0)\n",
    "left.mark(boundaries, 1)\n",
    "right.mark(boundaries, 2)\n",
    "top.mark(boundaries, 3)\n",
    "bottom.mark(boundaries, 4)"
   ]
  },
  {
   "cell_type": "markdown",
   "metadata": {},
   "source": [
    "The `UserExpression` class can be used to specify elastic constants on each of the three subdomains $\\Omega_1$, $\\Omega_2$, $\\Omega_3$ with the help of cell markers that were defined above"
   ]
  },
  {
   "cell_type": "code",
   "execution_count": 4,
   "metadata": {},
   "outputs": [
    {
     "name": "stdout",
     "output_type": "stream",
     "text": [
      "WARNING: user expression has not supplied value_shape method or an element. Assuming scalar element.\n",
      "WARNING: user expression has not supplied value_shape method or an element. Assuming scalar element.\n"
     ]
    }
   ],
   "source": [
    "# elastic constants of the matrix and two circular inclusions\n",
    "E_1=1\n",
    "E_2=10\n",
    "E_3=0.1\n",
    "nu_1=0.3\n",
    "nu_2=0.2\n",
    "nu_3=0.1\n",
    "\n",
    "# define class for calculating the Young's modulus over the whole domain\n",
    "class E_class(UserExpression):\n",
    "    def __init__(self, **kwargs):\n",
    "        self.markers = markers\n",
    "        super().__init__(**kwargs)\n",
    "    def eval_cell(self, value, x, ufc_cell):\n",
    "        if markers[ufc_cell.index] == 1:\n",
    "            value[0] = E_1\n",
    "        elif markers[ufc_cell.index] == 2:\n",
    "            value[0] = E_2\n",
    "        else:\n",
    "            value[0] = E_3\n",
    "\n",
    "# define class for calculating the Poisson's ratio over the whole domain\n",
    "class nu_class(UserExpression):\n",
    "    def __init__(self, **kwargs):\n",
    "        self.markers = markers\n",
    "        super().__init__(**kwargs)\n",
    "    def eval_cell(self, value, x, ufc_cell):\n",
    "        if markers[ufc_cell.index] == 1:\n",
    "            value[0] = nu_1\n",
    "        elif markers[ufc_cell.index] == 2:\n",
    "            value[0] = nu_2\n",
    "        else:\n",
    "            value[0] = nu_3\n",
    "\n",
    "# functions of elastic constants on the whole domain\n",
    "E = E_class(degree=1)\n",
    "nu = nu_class(degree=1)\n",
    "mu=E/2/(1+nu)\n",
    "Lambda=E*nu/(1-nu*nu)"
   ]
  },
  {
   "cell_type": "markdown",
   "metadata": {},
   "source": [
    "Use `MixedElement` to specify the function space for displacement vectors (linear Lagrange elements) and for 3 Lagrange multipliers (real numbers). "
   ]
  },
  {
   "cell_type": "code",
   "execution_count": 17,
   "metadata": {},
   "outputs": [],
   "source": [
    "#define function space with mixed finite elements (displacements + 3 Lagrange multipliers)\n",
    "degreeElements = 1\n",
    "P1 = FiniteElement('Lagrange', mesh.ufl_cell(), degreeElements)\n",
    "R = FiniteElement('Real', mesh.ufl_cell(), 0)\n",
    "MFS = FunctionSpace(mesh, MixedElement([(P1*P1),(R*R),R]))"
   ]
  },
  {
   "cell_type": "markdown",
   "metadata": {},
   "source": [
    "The function on this `FunctionSpace` can be defined as usual. However, it is convenient to `split` these function into functions that correspond to subspaces for displacemetns $u$ and Lagrange multipliers ${\\bf c_{trans}}$ and $c_{rot}$."
   ]
  },
  {
   "cell_type": "code",
   "execution_count": 18,
   "metadata": {},
   "outputs": [],
   "source": [
    "#define function and split it into displacements u and Lagrange multipliers\n",
    "f  = Function(MFS)\n",
    "u, c_trans, c_rot = split(f)\n",
    "#define test function\n",
    "tf = TestFunction(MFS)"
   ]
  },
  {
   "cell_type": "markdown",
   "metadata": {},
   "source": [
    "The strain and stress tensor are defined as discussed in the elasticity example with clamped-free boundary conditions (<a href=\"elasticity_clamped.ipynb\" target=\"_blank\">Jupyter notebook</a>, <a href=\"elasticity_clamped.html\" target=\"_blank\">HTML</a>)."
   ]
  },
  {
   "cell_type": "code",
   "execution_count": 8,
   "metadata": {},
   "outputs": [],
   "source": [
    "# define strain and stress\n",
    "def epsilon(u):\n",
    "    return sym(grad(u))\n",
    "def sigma(u):\n",
    "    return 2*mu*epsilon(u) + Lambda*tr(epsilon(u))*Identity(d)"
   ]
  },
  {
   "cell_type": "markdown",
   "metadata": {},
   "source": [
    "To prescribe tractions at the boundary $t_i=\\sigma_{ij}^0 n_j$, we use the `FacetNormal` function to obtain the unit normal vector $n_j$ to the boundary."
   ]
  },
  {
   "cell_type": "code",
   "execution_count": 23,
   "metadata": {},
   "outputs": [],
   "source": [
    "#external load\n",
    "sigma_xx = 0.2*E_1\n",
    "sigma_xy = 0\n",
    "sigma_yy = 0\n",
    "sigma_0 = Constant(((sigma_xx,sigma_xy),(sigma_xy,sigma_yy)))\n",
    "\n",
    "#unit normal vector to the boundary\n",
    "n = FacetNormal(mesh)\n",
    "                   \n",
    "#tractions on boundaries\n",
    "t = sigma_0 * n"
   ]
  },
  {
   "cell_type": "markdown",
   "metadata": {},
   "source": [
    "The toal free energy can be decomposed to the elastic energy\n",
    "$$E_{el}[u_i]=\\int_\\Omega {\\bf dx} \\, \\frac{1}{2} \\sigma_{ij} \\epsilon_{ij},$$\n",
    "work of external forces\n",
    "$$W[u_i]=\\oint_\\Gamma ds\\, u_i t_i$$\n",
    "and constraints with Lagrange multipliers\n",
    "$$\\int_\\Omega {\\bf dx}\\,  c_{trans,i} u_i + \\int_\\Omega {\\bf dx}\\  c_{rot} (x u_y -y u_x)$$"
   ]
  },
  {
   "cell_type": "code",
   "execution_count": 24,
   "metadata": {},
   "outputs": [],
   "source": [
    "#calculate elastic energy\n",
    "elastic_energy = 1/2*inner(sigma(u),epsilon(u))*dx\n",
    "#calculate work of external tractions\n",
    "work = dot(t,u)*ds\n",
    "#Lagrange multipliers to prevent rigid body motions\n",
    "r=Expression(('x[0]','x[1]'),degree=1)\n",
    "constraints = dot(c_trans,u)*dx + c_rot*(r[0]*u[1]-r[1]*u[0])*dx\n",
    "#total free energy\n",
    "free_energy =  elastic_energy - work + constraints"
   ]
  },
  {
   "cell_type": "markdown",
   "metadata": {},
   "source": [
    "<div class=\"alert alert-block alert-info\">\n",
    "Note that if the 3 materials had different constitutive laws we coud have evaluated the total elastic energy by integrating separately over domains $\\Omega_1$, $\\Omega_2$, and $\\Omega_3$.<br> \n",
    "<code>dx = Measure('dx', domain=mesh, subdomain_data=markers)\n",
    "elastic_energy = energy_density1*dx(1) + energy_density2*dx(2) + energy_density3*dx(3) \n",
    "</code>\n",
    "Similarly, if we had different values of tractions on different boundary domains we could have evaluated the work by integrating over different domains.\n",
    "<br> \n",
    "<code>ds = Measure('ds', domain=mesh, subdomain_data=boundaries)\n",
    "work = dot(t1,u)*ds(1) + dot(t2,u)*ds(2) + dot(t3,u)*ds(3)\n",
    "</code>\n",
    "</div>"
   ]
  },
  {
   "cell_type": "markdown",
   "metadata": {},
   "source": [
    "Minimize the total free energy and calculate the contributions from the elastic energy, work of external loads and from constraints"
   ]
  },
  {
   "cell_type": "code",
   "execution_count": 21,
   "metadata": {},
   "outputs": [
    {
     "name": "stdout",
     "output_type": "stream",
     "text": [
      "Tot Free Energy =  -0.020811012183109497\n",
      "Elastic Energy =  0.02081101218310997\n",
      "Work =  0.0416220243662194\n",
      "Constraints =  -2.1385721704735844e-31\n"
     ]
    }
   ],
   "source": [
    "#minimize total free energy\n",
    "Res = derivative(free_energy, f, tf)\n",
    "solve(Res == 0, f)\n",
    "\n",
    "#calculate total free energy\n",
    "print(\"Tot Free Energy = \",assemble(free_energy))\n",
    "print(\"Elastic Energy = \",assemble(elastic_energy))\n",
    "print(\"Work = \",assemble(work))\n",
    "print(\"Constraints = \",assemble(constraints))"
   ]
  },
  {
   "cell_type": "markdown",
   "metadata": {},
   "source": [
    "We can export displacements and stress for the visualization in <a href=\"https://www.paraview.org/\" target=\"_blank\">ParaView</a> as was done in the elasticity example with clamped-free boundary conditions (<a href=\"elasticity_clamped.ipynb\" target=\"_blank\">Jupyter notebook</a>, <a href=\"elasticity_clamped.html\" target=\"_blank\">HTML</a>)."
   ]
  },
  {
   "cell_type": "code",
   "execution_count": 27,
   "metadata": {},
   "outputs": [],
   "source": [
    "# export displacements\n",
    "VFS = VectorFunctionSpace(mesh, 'Lagrange', 1)\n",
    "disp=project(u, VFS)\n",
    "disp.rename(\"displacements\",\"\")\n",
    "fileD = File(\"data/tractions_displacement.pvd\");\n",
    "fileD << disp;\n",
    "\n",
    "# calculate and export von Mises stress\n",
    "FS = FunctionSpace(mesh, 'Lagrange', 1)\n",
    "devStress = sigma(u) - (1./d)*tr(sigma(u))*Identity(d)  # deviatoric stress\n",
    "von_Mises = project(sqrt(3./2*inner(devStress, devStress)), FS)\n",
    "von_Mises.rename(\"von Mises\",\"\")\n",
    "fileS = File(\"data/tractions_vonMises_stress.pvd\");\n",
    "fileS << von_Mises;\n",
    "\n",
    "# calculate and export stress component sigma_xx\n",
    "sigma_xx = project(sigma(u)[0,0], FS)\n",
    "sigma_xx.rename(\"sigma_xx\",\"\")\n",
    "fileS = File(\"data/tractions_sigma_xx.pvd\");\n",
    "fileS << sigma_xx;\n",
    "\n",
    "# calculate and export stress component sigma_yy\n",
    "sigma_yy = project(sigma(u)[1,1], FS)\n",
    "sigma_yy.rename(\"sigma_yy\",\"\")\n",
    "fileS = File(\"data/tractions_sigma_yy.pvd\");\n",
    "fileS << sigma_yy;\n",
    "\n",
    "# calculate and export stress component sigma_xy\n",
    "sigma_xy = project(sigma(u)[0,1], FS)\n",
    "sigma_xy.rename(\"sigma_xy\",\"\")\n",
    "fileS = File(\"data/tractions_sigma_xy.pvd\");\n",
    "fileS << sigma_xy;\n",
    "\n",
    "# export Young's modulus\n",
    "young = project(E, FS)\n",
    "young.rename(\"Young's modulus\",\"\")\n",
    "fileS = File(\"data/tractions_young.pvd\");\n",
    "fileS << young;\n"
   ]
  },
  {
   "cell_type": "markdown",
   "metadata": {},
   "source": [
    "## Complete code"
   ]
  },
  {
   "cell_type": "code",
   "execution_count": 29,
   "metadata": {},
   "outputs": [
    {
     "name": "stdout",
     "output_type": "stream",
     "text": [
      "WARNING: user expression has not supplied value_shape method or an element. Assuming scalar element.\n",
      "WARNING: user expression has not supplied value_shape method or an element. Assuming scalar element.\n",
      "Tot Free Energy =  -0.020811012183109497\n",
      "Elastic Energy =  0.02081101218310997\n",
      "Work =  0.0416220243662194\n",
      "Constraints =  -2.1385721704735844e-31\n"
     ]
    }
   ],
   "source": [
    "from __future__ import print_function\n",
    "from fenics import *\n",
    "from dolfin import *\n",
    "from mshr import *\n",
    "import matplotlib.pyplot as plt\n",
    "\n",
    "# Create rectangular mesh with two circular inclusions\n",
    "N=100\n",
    "L=1\n",
    "R_2=0.05\n",
    "R_3=0.08\n",
    "domain = Rectangle(Point(-L/2,-L/2),Point(L/2,L/2))\n",
    "# mark subdomains with markers 1, 2, 3\n",
    "domain.set_subdomain(1, Rectangle(Point(-L/2,-L/2),Point(L/2,L/2)))\n",
    "domain.set_subdomain(2, Circle(Point(0.,0.43), R_2))\n",
    "domain.set_subdomain(3, Circle(Point(-0.15,0.35), R_3))\n",
    "mesh = generate_mesh(domain, N)\n",
    "d = mesh.topology().dim() # dimensionality of the problem\n",
    "markers = MeshFunction(\"size_t\", mesh, d , mesh.domains())\n",
    "\n",
    "\n",
    "# define boundary subdomains\n",
    "class Left(SubDomain):\n",
    "    def inside(self, x, on_boundary):\n",
    "        return near(x[0], -L/2)\n",
    "\n",
    "class Right(SubDomain):\n",
    "    def inside(self, x, on_boundary):\n",
    "        return near(x[0], +L/2)\n",
    "\n",
    "class Top(SubDomain):\n",
    "    def inside(self, x, on_boundary):\n",
    "        return near(x[1], L/2)\n",
    "\n",
    "class Bottom(SubDomain):\n",
    "    def inside(self, x, on_boundary):\n",
    "        return near(x[1], -L/2)\n",
    "\n",
    "left = Left()\n",
    "right = Right()\n",
    "top = Top()\n",
    "bottom = Bottom()\n",
    "\n",
    "# mark boundary subdomains with markers 1, 2, 3, 4\n",
    "boundaries = MeshFunction(\"size_t\", mesh, d-1, 0)\n",
    "boundaries.set_all(0)\n",
    "left.mark(boundaries, 1)\n",
    "right.mark(boundaries, 2)\n",
    "top.mark(boundaries, 3)\n",
    "bottom.mark(boundaries, 4)\n",
    "\n",
    "\n",
    "# elastic constants of the matrix and two circular inclusions\n",
    "E_1=1\n",
    "E_2=10\n",
    "E_3=0.1\n",
    "nu_1=0.3\n",
    "nu_2=0.2\n",
    "nu_3=0.1\n",
    "\n",
    "\n",
    "\n",
    "# define class for calculating the Young's modulus over the whole domain\n",
    "class E_class(UserExpression):\n",
    "    def __init__(self, **kwargs):\n",
    "        self.markers = markers\n",
    "        super().__init__(**kwargs)\n",
    "    def eval_cell(self, value, x, ufc_cell):\n",
    "        if markers[ufc_cell.index] == 1:\n",
    "            value[0] = E_1\n",
    "        elif markers[ufc_cell.index] == 2:\n",
    "            value[0] = E_2\n",
    "        else:\n",
    "            value[0] = E_3\n",
    "\n",
    "# define class for calculating the Poisson's ratio over the whole domain\n",
    "class nu_class(UserExpression):\n",
    "    def __init__(self, **kwargs):\n",
    "        self.markers = markers\n",
    "        super().__init__(**kwargs)\n",
    "    def eval_cell(self, value, x, ufc_cell):\n",
    "        if markers[ufc_cell.index] == 1:\n",
    "            value[0] = nu_1\n",
    "        elif markers[ufc_cell.index] == 2:\n",
    "            value[0] = nu_2\n",
    "        else:\n",
    "            value[0] = nu_3\n",
    "\n",
    "# functions of elastic constants on the whole domain\n",
    "E = E_class(degree=1)\n",
    "nu = nu_class(degree=1)\n",
    "mu=E/2/(1+nu)\n",
    "Lambda=E*nu/(1-nu*nu)\n",
    "\n",
    "\n",
    "\n",
    "\n",
    "#define function space with mixed finite elements (displacements + 3 Lagrange multipliers)\n",
    "degreeElements = 1\n",
    "P1 = FiniteElement('Lagrange', mesh.ufl_cell(), degreeElements)\n",
    "R = FiniteElement('Real', mesh.ufl_cell(), 0)\n",
    "MFS = FunctionSpace(mesh, MixedElement([(P1*P1),(R*R),R]))\n",
    "\n",
    "#define function and split it into displacements u and Lagrange multipliers\n",
    "f  = Function(MFS)\n",
    "u, c_trans, c_rot = split(f)\n",
    "#define test function\n",
    "tf = TestFunction(MFS)\n",
    "\n",
    "\n",
    "# define strain and stress\n",
    "def epsilon(u):\n",
    "    return sym(grad(u))\n",
    "def sigma(u):\n",
    "    return 2*mu*epsilon(u) + Lambda*tr(epsilon(u))*Identity(d)\n",
    "\n",
    "#external load\n",
    "sigma_xx = 0.2*E_1\n",
    "sigma_xy = 0\n",
    "sigma_yy = 0\n",
    "sigma_0 = Constant(((sigma_xx,sigma_xy),(sigma_xy,sigma_yy)))\n",
    "\n",
    "#unit normal vector to the boundary\n",
    "n = FacetNormal(mesh)\n",
    "                   \n",
    "#tractions on boundaries\n",
    "t = sigma_0 * n\n",
    "\n",
    "#calculate elastic energy\n",
    "elastic_energy = 1/2*inner(sigma(u),epsilon(u))*dx\n",
    "#calculate work of external tractions\n",
    "work = dot(t,u)*ds\n",
    "#Lagrange multipliers to prevent rigid body motions\n",
    "r=Expression(('x[0]','x[1]'),degree=1)\n",
    "constraints = dot(c_trans,u)*dx + c_rot*(r[0]*u[1]-r[1]*u[0])*dx\n",
    "#total free energy\n",
    "free_energy =  elastic_energy - work + constraints\n",
    "\n",
    "\n",
    "#minimize total free energy\n",
    "Res = derivative(free_energy, f, tf)\n",
    "solve(Res == 0, f)\n",
    "\n",
    "#calculate total free energy\n",
    "print(\"Tot Free Energy = \",assemble(free_energy))\n",
    "print(\"Elastic Energy = \",assemble(elastic_energy))\n",
    "print(\"Work = \",assemble(work))\n",
    "print(\"Constraints = \",assemble(constraints))\n",
    "\n",
    "\n",
    "# export displacements\n",
    "VFS = VectorFunctionSpace(mesh, 'Lagrange', 1)\n",
    "disp=project(u, VFS)\n",
    "disp.rename(\"displacements\",\"\")\n",
    "fileD = File(\"data/tractions_displacement.pvd\");\n",
    "fileD << disp;\n",
    "\n",
    "# calculate and export von Mises stress\n",
    "FS = FunctionSpace(mesh, 'Lagrange', 1)\n",
    "devStress = sigma(u) - (1./d)*tr(sigma(u))*Identity(d)  # deviatoric stress\n",
    "von_Mises = project(sqrt(3./2*inner(devStress, devStress)), FS)\n",
    "von_Mises.rename(\"von Mises\",\"\")\n",
    "fileS = File(\"data/tractions_vonMises_stress.pvd\");\n",
    "fileS << von_Mises;\n",
    "\n",
    "# calculate and export stress component sigma_xx\n",
    "sigma_xx = project(sigma(u)[0,0], FS)\n",
    "sigma_xx.rename(\"sigma_xx\",\"\")\n",
    "fileS = File(\"data/tractions_sigma_xx.pvd\");\n",
    "fileS << sigma_xx;\n",
    "\n",
    "# calculate and export stress component sigma_yy\n",
    "sigma_yy = project(sigma(u)[1,1], FS)\n",
    "sigma_yy.rename(\"sigma_yy\",\"\")\n",
    "fileS = File(\"data/tractions_sigma_yy.pvd\");\n",
    "fileS << sigma_yy;\n",
    "\n",
    "# calculate and export stress component sigma_xy\n",
    "sigma_xy = project(sigma(u)[0,1], FS)\n",
    "sigma_xy.rename(\"sigma_xy\",\"\")\n",
    "fileS = File(\"data/tractions_sigma_xy.pvd\");\n",
    "fileS << sigma_xy;\n",
    "\n",
    "# export Young's modulus\n",
    "young = project(E, FS)\n",
    "young.rename(\"Young's modulus\",\"\")\n",
    "fileS = File(\"data/tractions_young.pvd\");\n",
    "fileS << young;"
   ]
  },
  {
   "cell_type": "code",
   "execution_count": null,
   "metadata": {},
   "outputs": [],
   "source": []
  }
 ],
 "metadata": {
  "kernelspec": {
   "display_name": "Python 3",
   "language": "python",
   "name": "python3"
  },
  "language_info": {
   "codemirror_mode": {
    "name": "ipython",
    "version": 3
   },
   "file_extension": ".py",
   "mimetype": "text/x-python",
   "name": "python",
   "nbconvert_exporter": "python",
   "pygments_lexer": "ipython3",
   "version": "3.8.2"
  }
 },
 "nbformat": 4,
 "nbformat_minor": 4
}
